{
 "cells": [
  {
   "cell_type": "code",
   "execution_count": 1,
   "id": "5d1c6261",
   "metadata": {},
   "outputs": [
    {
     "name": "stdout",
     "output_type": "stream",
     "text": [
      "Enter integers separated by spaces: 2 7 1 4 3 6 \n",
      "Count of pairs with sum 10: 2\n"
     ]
    }
   ],
   "source": [
    "def get_user_list():\n",
    "    \"\"\"\n",
    "    Get a list of integers from the user.\n",
    "    \"\"\"\n",
    "    return list(map(int, input(\"Enter integers separated by spaces: \").split()))\n",
    "\n",
    "def count_pairs_with_sum(lst, target_sum):\n",
    "    \"\"\"\n",
    "    Count pairs in the list that sum up to the target_sum.\n",
    "    \"\"\"\n",
    "    pair_count = 0\n",
    "    seen = set()\n",
    "    \n",
    "    for number in lst:\n",
    "        complement = target_sum - number\n",
    "        if complement in seen:\n",
    "            pair_count += 1\n",
    "        seen.add(number)\n",
    "    \n",
    "    return pair_count\n",
    "\n",
    "def main():\n",
    "    # Get user input\n",
    "    lst = get_user_list()\n",
    "    target_sum = 10\n",
    "    \n",
    "    # Calculate number of pairs\n",
    "    pairs_count = count_pairs_with_sum(lst, target_sum)\n",
    "    \n",
    "    # Output result\n",
    "    print(f\"Count of pairs with sum {target_sum}: {pairs_count}\")\n",
    "\n",
    "if __name__ == \"__main__\":\n",
    "    main()\n"
   ]
  },
  {
   "cell_type": "code",
   "execution_count": 2,
   "id": "10a5c367",
   "metadata": {},
   "outputs": [
    {
     "name": "stdout",
     "output_type": "stream",
     "text": [
      "Enter real numbers separated by spaces: 8 4 6 7 8 \n",
      "Range of the list: 4.0\n"
     ]
    }
   ],
   "source": [
    "def get_user_list():\n",
    "    \"\"\"\n",
    "    Get a list of real numbers from the user.\n",
    "    \"\"\"\n",
    "    return list(map(float, input(\"Enter real numbers separated by spaces: \").split()))\n",
    "\n",
    "def calculate_range(lst):\n",
    "    \"\"\"\n",
    "    Calculate the range (difference between maximum and minimum) of the list.\n",
    "    \"\"\"\n",
    "    if len(lst) < 3:\n",
    "        return \"Range determination not possible\"\n",
    "    min_value = min(lst)\n",
    "    max_value = max(lst)\n",
    "    return max_value - min_value\n",
    "\n",
    "def main():\n",
    "    # Get user input\n",
    "    lst = get_user_list()\n",
    "    \n",
    "    # Calculate range\n",
    "    range_value = calculate_range(lst)\n",
    "    \n",
    "    # Output result\n",
    "    print(f\"Range of the list: {range_value}\")\n",
    "\n",
    "if __name__ == \"__main__\":\n",
    "    main()\n"
   ]
  },
  {
   "cell_type": "code",
   "execution_count": 3,
   "id": "84874cce",
   "metadata": {},
   "outputs": [
    {
     "name": "stdout",
     "output_type": "stream",
     "text": [
      "Enter the size of the square matrix: 2\n",
      "Enter the matrix row by row:\n",
      "1 2\n",
      "3 4\n",
      "Enter the power to raise the matrix: 2\n",
      "Matrix raised to power 2:\n",
      "7 10\n",
      "15 22\n"
     ]
    }
   ],
   "source": [
    "def get_user_matrix():\n",
    "    \"\"\"\n",
    "    Get a square matrix from the user.\n",
    "    \"\"\"\n",
    "    size = int(input(\"Enter the size of the square matrix: \"))\n",
    "    matrix = []\n",
    "    print(f\"Enter the matrix row by row:\")\n",
    "    for _ in range(size):\n",
    "        row = list(map(int, input().split()))\n",
    "        matrix.append(row)\n",
    "    return matrix, size\n",
    "\n",
    "def matrix_multiply(A, B):\n",
    "    \"\"\"\n",
    "    Helper function to multiply two matrices.\n",
    "    \"\"\"\n",
    "    size = len(A)\n",
    "    result = [[0] * size for _ in range(size)]\n",
    "    for i in range(size):\n",
    "        for j in range(size):\n",
    "            for k in range(size):\n",
    "                result[i][j] += A[i][k] * B[k][j]\n",
    "    return result\n",
    "\n",
    "def matrix_power(matrix, power):\n",
    "    \"\"\"\n",
    "    Compute the power of a square matrix.\n",
    "    \"\"\"\n",
    "    size = len(matrix)\n",
    "    \n",
    "    # Initialize result as identity matrix\n",
    "    result = [[1 if i == j else 0 for j in range(size)] for i in range(size)]\n",
    "    \n",
    "    # Matrix exponentiation\n",
    "    base = matrix\n",
    "    while power > 0:\n",
    "        if power % 2 == 1:\n",
    "            result = matrix_multiply(result, base)\n",
    "        base = matrix_multiply(base, base)\n",
    "        power //= 2\n",
    "    \n",
    "    return result\n",
    "\n",
    "def main():\n",
    "    # Get user input\n",
    "    matrix, size = get_user_matrix()\n",
    "    power = int(input(\"Enter the power to raise the matrix: \"))\n",
    "    \n",
    "    # Compute matrix power\n",
    "    powered_matrix = matrix_power(matrix, power)\n",
    "    \n",
    "    # Output result\n",
    "    print(f\"Matrix raised to power {power}:\")\n",
    "    for row in powered_matrix:\n",
    "        print(' '.join(map(str, row)))\n",
    "\n",
    "if __name__ == \"__main__\":\n",
    "    main()\n"
   ]
  },
  {
   "cell_type": "code",
   "execution_count": 4,
   "id": "5e143619",
   "metadata": {},
   "outputs": [
    {
     "name": "stdout",
     "output_type": "stream",
     "text": [
      "Enter a string: anil\n",
      "Highest occurring character: 'a' with count 1\n"
     ]
    }
   ],
   "source": [
    "def get_user_string():\n",
    "    \"\"\"\n",
    "    Get a string from the user.\n",
    "    \"\"\"\n",
    "    return input(\"Enter a string: \")\n",
    "\n",
    "def highest_occurring_character_count(input_string):\n",
    "    \"\"\"\n",
    "    Count the highest occurring character and its occurrence count in a string.\n",
    "    \"\"\"\n",
    "    from collections import defaultdict\n",
    "    \n",
    "    # Use a dictionary to count occurrences of each character\n",
    "    char_count = defaultdict(int)\n",
    "    for char in input_string:\n",
    "        if char.isalpha():  # Consider only alphabets\n",
    "            char_count[char] += 1\n",
    "    \n",
    "    if not char_count:\n",
    "        return \"No alphabet characters in the input.\"\n",
    "    \n",
    "    # Find the character with the maximum count\n",
    "    highest_char = max(char_count, key=char_count.get)\n",
    "    highest_count = char_count[highest_char]\n",
    "    \n",
    "    return highest_char, highest_count\n",
    "\n",
    "def main():\n",
    "    # Get user input\n",
    "    input_string = get_user_string()\n",
    "    \n",
    "    # Find highest occurring character\n",
    "    char, count = highest_occurring_character_count(input_string)\n",
    "    \n",
    "    # Output result\n",
    "    print(f\"Highest occurring character: '{char}' with count {count}\")\n",
    "\n",
    "if __name__ == \"__main__\":\n",
    "    main()\n"
   ]
  },
  {
   "cell_type": "code",
   "execution_count": null,
   "id": "4379f412",
   "metadata": {},
   "outputs": [],
   "source": []
  }
 ],
 "metadata": {
  "kernelspec": {
   "display_name": "Python 3 (ipykernel)",
   "language": "python",
   "name": "python3"
  },
  "language_info": {
   "codemirror_mode": {
    "name": "ipython",
    "version": 3
   },
   "file_extension": ".py",
   "mimetype": "text/x-python",
   "name": "python",
   "nbconvert_exporter": "python",
   "pygments_lexer": "ipython3",
   "version": "3.11.4"
  }
 },
 "nbformat": 4,
 "nbformat_minor": 5
}
